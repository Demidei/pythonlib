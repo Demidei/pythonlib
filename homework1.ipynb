{
 "cells": [
  {
   "cell_type": "markdown",
   "metadata": {},
   "source": [
    "# Тема “Вычисления с помощью Numpy”"
   ]
  },
  {
   "cell_type": "markdown",
   "metadata": {},
   "source": [
    "Задание 1 Создайте массив Numpy под названием a размером 5x2, то есть состоящий из 5 строк\n",
    "и 2 столбцов. Первый столбец должен содержать числа 1, 2, 3, 3, 1, а второй - числа 6,\n",
    "8, 11, 10, 7. Будем считать, что каждый столбец - это признак, а строка - наблюдение.\n",
    "Затем найдите среднее значение по каждому признаку, используя метод mean массива\n",
    "Numpy. Результат запишите в массив mean_a, в нем должно быть 2 элемента"
   ]
  },
  {
   "cell_type": "code",
   "execution_count": 50,
   "metadata": {},
   "outputs": [
    {
     "name": "stdout",
     "output_type": "stream",
     "text": [
      "[2.  8.4]\n"
     ]
    }
   ],
   "source": [
    "import numpy as np\n",
    "\n",
    "a = np.array([[1,6],[2,8],[3,11],[3,10],[1,7]]) \n",
    "mean_a=np.array(np.mean(a, axis=0))\n",
    "print(mean_a)"
   ]
  },
  {
   "cell_type": "markdown",
   "metadata": {},
   "source": [
    "Задание 2\n",
    "Вычислите массив a_centered, отняв от значений массива “а” средние значения\n",
    "соответствующих признаков, содержащиеся в массиве mean_a. Вычисление должно\n",
    "производиться в одно действие. Получившийся массив должен иметь размер 5x2."
   ]
  },
  {
   "cell_type": "code",
   "execution_count": 51,
   "metadata": {},
   "outputs": [
    {
     "name": "stdout",
     "output_type": "stream",
     "text": [
      "[[-1.  -2.4]\n",
      " [ 0.  -0.4]\n",
      " [ 1.   2.6]\n",
      " [ 1.   1.6]\n",
      " [-1.  -1.4]]\n"
     ]
    }
   ],
   "source": [
    "a_centered=(a-mean_a )\n",
    "print(a_centered)"
   ]
  },
  {
   "cell_type": "markdown",
   "metadata": {},
   "source": [
    "Задание 3\n",
    "Найдите скалярное произведение столбцов массива a_centered. В результате должна\n",
    "получиться величина a_centered_sp. Затем поделите a_centered_sp на N-1, где N - число\n",
    "наблюдений."
   ]
  },
  {
   "cell_type": "code",
   "execution_count": 52,
   "metadata": {},
   "outputs": [
    {
     "name": "stdout",
     "output_type": "stream",
     "text": [
      "8.0\n"
     ]
    }
   ],
   "source": [
    "a_centered_sp=np.dot(a_centered.transpose()[0],a_centered.transpose()[1])\n",
    "print(a_centered_sp)"
   ]
  },
  {
   "cell_type": "code",
   "execution_count": 53,
   "metadata": {},
   "outputs": [
    {
     "name": "stdout",
     "output_type": "stream",
     "text": [
      "5\n"
     ]
    }
   ],
   "source": [
    "print(a.shape[0])\n"
   ]
  },
  {
   "cell_type": "code",
   "execution_count": 54,
   "metadata": {},
   "outputs": [
    {
     "name": "stdout",
     "output_type": "stream",
     "text": [
      "2.0\n"
     ]
    }
   ],
   "source": [
    "print(a_centered_sp/(a.shape[0]-1))"
   ]
  },
  {
   "cell_type": "markdown",
   "metadata": {},
   "source": [
    "Задание 4**\n",
    "© geekbrains.ru\n",
    "Число, которое мы получили в конце задания 3 является ковариацией двух признаков, содержащихся\n",
    "в массиве “а”. В задании 4 мы делили сумму произведений центрированных признаков на N-1, а не на\n",
    "N, поэтому полученная нами величина является несмещенной оценкой ковариации.\n",
    "Подробнее узнать о ковариации можно здесь:\n",
    "Выборочная ковариация и выборочная дисперсия — Студопедия\n",
    "В этом задании проверьте получившееся число, вычислив ковариацию еще одним способом - с\n",
    "помощью функции np.cov. В качестве аргумента m функция np.cov должна принимать\n",
    "транспонированный массив “a”. В получившейся ковариационной матрице (массив Numpy размером\n",
    "2x2) искомое значение ковариации будет равно элементу в строке с индексом 0 и столбце с индексом\n",
    "1.\n"
   ]
  },
  {
   "cell_type": "code",
   "execution_count": 55,
   "metadata": {},
   "outputs": [
    {
     "name": "stdout",
     "output_type": "stream",
     "text": [
      "2.0\n"
     ]
    }
   ],
   "source": [
    "print(np.cov(a.transpose())[0][1])"
   ]
  },
  {
   "cell_type": "markdown",
   "metadata": {},
   "source": [
    "# Тема “Работа с данными в Pandas”"
   ]
  },
  {
   "cell_type": "markdown",
   "metadata": {},
   "source": [
    "Задание 1\n",
    "Импортируйте библиотеку Pandas и дайте ей псевдоним pd. Создайте датафрейм authors со\n",
    "столбцами author_id и author_name, в которых соответственно содержатся данные: [1, 2, 3] и\n",
    "['Тургенев', 'Чехов', 'Островский'].\n",
    "Затем создайте датафрейм book cо столбцами author_id, book_title и price, в которых соответственно\n",
    "содержатся данные:\n",
    "[1, 1, 1, 2, 2, 3, 3],\n",
    "['Отцы и дети', 'Рудин', 'Дворянское гнездо', 'Толстый и тонкий', 'Дама с собачкой', 'Гроза', 'Таланты и\n",
    "поклонники']\n",
    "Нужны prices!\n",
    "[500, 400, 300, 350, 450, 600, 200]"
   ]
  },
  {
   "cell_type": "code",
   "execution_count": 56,
   "metadata": {},
   "outputs": [],
   "source": [
    "import pandas as pd"
   ]
  },
  {
   "cell_type": "code",
   "execution_count": 57,
   "metadata": {},
   "outputs": [
    {
     "name": "stdout",
     "output_type": "stream",
     "text": [
      "   autor_id  autor_name\n",
      "0         1    Тургенев\n",
      "1         2       Чехов\n",
      "2         3  Островский\n"
     ]
    }
   ],
   "source": [
    "autors = pd.DataFrame({\"autor_id\": [1, 2, 3],\"autor_name\": ['Тургенев', 'Чехов', 'Островский']})\n",
    "print(autors)"
   ]
  },
  {
   "cell_type": "code",
   "execution_count": 58,
   "metadata": {},
   "outputs": [
    {
     "name": "stdout",
     "output_type": "stream",
     "text": [
      "   autor_id            book_title  price\n",
      "0         1           Отцы и дети    500\n",
      "1         1                 Рудин    400\n",
      "2         1     Дворянское гнездо    300\n",
      "3         2      Толстый и тонкий    350\n",
      "4         2       Дама с собачкой    450\n",
      "5         3                 Гроза    600\n",
      "6         3  Таланты и поклонники    200\n"
     ]
    }
   ],
   "source": [
    "book = pd.DataFrame({\"autor_id\": [1, 1, 1, 2, 2, 3, 3],\"book_title\":['Отцы и дети', 'Рудин', 'Дворянское гнездо', 'Толстый и тонкий', 'Дама с собачкой', 'Гроза', 'Таланты и поклонники'], \"price\": [500, 400, 300, 350, 450, 600, 200]})\n",
    "print(book)"
   ]
  },
  {
   "cell_type": "markdown",
   "metadata": {},
   "source": [
    "Задание 2\n",
    "Получите датафрейм authors_price, соединив дата фреймы authors и books по полю author_id.\n"
   ]
  },
  {
   "cell_type": "code",
   "execution_count": 59,
   "metadata": {},
   "outputs": [
    {
     "name": "stdout",
     "output_type": "stream",
     "text": [
      "   autor_id  autor_name            book_title  price\n",
      "0         1    Тургенев           Отцы и дети    500\n",
      "1         1    Тургенев                 Рудин    400\n",
      "2         1    Тургенев     Дворянское гнездо    300\n",
      "3         2       Чехов      Толстый и тонкий    350\n",
      "4         2       Чехов       Дама с собачкой    450\n",
      "5         3  Островский                 Гроза    600\n",
      "6         3  Островский  Таланты и поклонники    200\n"
     ]
    }
   ],
   "source": [
    "authors_price=pd.merge(autors, book)\n",
    "print(authors_price)"
   ]
  },
  {
   "cell_type": "markdown",
   "metadata": {},
   "source": [
    "Задание 3\n",
    "Создайте датафрейм top5, в котором содержатся строки из authors_price с пятью самыми дорогими\n",
    "книгами."
   ]
  },
  {
   "cell_type": "code",
   "execution_count": 60,
   "metadata": {},
   "outputs": [
    {
     "name": "stdout",
     "output_type": "stream",
     "text": [
      "   autor_id  autor_name        book_title  price\n",
      "5         3  Островский             Гроза    600\n",
      "0         1    Тургенев       Отцы и дети    500\n",
      "4         2       Чехов   Дама с собачкой    450\n",
      "1         1    Тургенев             Рудин    400\n",
      "3         2       Чехов  Толстый и тонкий    350\n"
     ]
    }
   ],
   "source": [
    "top5=authors_price.sort_values(by=\"price\", ascending=False).head(5)\n",
    "print(top5)"
   ]
  },
  {
   "cell_type": "markdown",
   "metadata": {},
   "source": [
    "Задание 4\n",
    "Создайте датафрейм authors_stat на основе информации из authors_price. В датафрейме authors_stat\n",
    "должны быть четыре столбца:\n",
    "author_name, min_price, max_price и mean_price,\n",
    "в которых должны содержаться соответственно имя автора, минимальная, максимальная и средняя\n",
    "цена на книги этого автора.\n"
   ]
  },
  {
   "cell_type": "code",
   "execution_count": 61,
   "metadata": {},
   "outputs": [
    {
     "name": "stdout",
     "output_type": "stream",
     "text": [
      "   autor_name  min_price  max_price  mean_price\n",
      "0  Островский        200        600       400.0\n",
      "1    Тургенев        300        500       400.0\n",
      "2       Чехов        350        450       400.0\n"
     ]
    }
   ],
   "source": [
    "authors_stat = authors_price.groupby('autor_name').agg(\n",
    "    min_price=pd.NamedAgg(column='price', aggfunc='min'),\n",
    "    max_price=pd.NamedAgg(column='price', aggfunc='max'),\n",
    "    mean_price=pd.NamedAgg(column='price', aggfunc='mean')\n",
    ").reset_index()\n",
    "print(authors_stat)"
   ]
  },
  {
   "cell_type": "markdown",
   "metadata": {},
   "source": [
    "Задание 5**\n",
    "Создайте новый столбец в датафрейме authors_price под названием cover, в нем будут располагаться\n",
    "данные о том, какая обложка у данной книги - твердая или мягкая. В этот столбец поместите данные\n",
    "из следующего списка:\n",
    "['твердая', 'мягкая', 'мягкая', 'твердая', 'твердая', 'мягкая', 'мягкая'].\n",
    "Просмотрите документацию по функции pd.pivot table с помощью вопросительного знака.\n",
    "Для каждого автора посчитайте суммарную стоимость книг в твердой и мягкой обложке. Используйте\n",
    "для этого функцию pd.pivot_table. При этом столбцы должны называться \"твердая\" и \"мягкая\", а\n",
    "индексами должны быть фамилии авторов. Пропущенные значения стоимостей заполните нулями,\n",
    "при необходимости загрузите библиотеку Numpy.\n",
    "Назовите полученный датасет book_info и сохраните его в формат pickle под названием\n",
    "\"book_info.pkl\". Затем загрузите из этого файла датафрейм и назовите его book_info2. Удостоверьтесь,\n",
    "что датафреймы book_info и book_info2 идентичны.\n"
   ]
  },
  {
   "cell_type": "code",
   "execution_count": 62,
   "metadata": {},
   "outputs": [
    {
     "name": "stdout",
     "output_type": "stream",
     "text": [
      "   autor_id  autor_name            book_title  price    cover\n",
      "0         1    Тургенев           Отцы и дети    500  твердая\n",
      "1         1    Тургенев                 Рудин    400   мягкая\n",
      "2         1    Тургенев     Дворянское гнездо    300   мягкая\n",
      "3         2       Чехов      Толстый и тонкий    350  твердая\n",
      "4         2       Чехов       Дама с собачкой    450  твердая\n",
      "5         3  Островский                 Гроза    600   мягкая\n",
      "6         3  Островский  Таланты и поклонники    200   мягкая\n"
     ]
    }
   ],
   "source": [
    "authors_price[\"cover\"]=['твердая', 'мягкая', 'мягкая', 'твердая', 'твердая', 'мягкая', 'мягкая']\n",
    "print(authors_price)"
   ]
  },
  {
   "cell_type": "code",
   "execution_count": 63,
   "metadata": {},
   "outputs": [
    {
     "name": "stdout",
     "output_type": "stream",
     "text": [
      "cover       мягкая  твердая\n",
      "autor_name                 \n",
      "Островский     800        0\n",
      "Тургенев       700      500\n",
      "Чехов            0      800\n"
     ]
    }
   ],
   "source": [
    "book_info = pd.pivot_table(authors_price, values='price', index=['autor_name'],\n",
    "                       columns=['cover'], aggfunc=\"sum\", fill_value=0)\n",
    "print(book_info)"
   ]
  },
  {
   "cell_type": "code",
   "execution_count": 64,
   "metadata": {},
   "outputs": [],
   "source": [
    "book_info.to_pickle(\"book_info.pkl\")"
   ]
  },
  {
   "cell_type": "code",
   "execution_count": 65,
   "metadata": {},
   "outputs": [],
   "source": [
    "book_info2=pd.read_pickle(\"book_info.pkl\")"
   ]
  },
  {
   "cell_type": "code",
   "execution_count": 66,
   "metadata": {},
   "outputs": [
    {
     "data": {
      "text/html": [
       "<div>\n",
       "<style scoped>\n",
       "    .dataframe tbody tr th:only-of-type {\n",
       "        vertical-align: middle;\n",
       "    }\n",
       "\n",
       "    .dataframe tbody tr th {\n",
       "        vertical-align: top;\n",
       "    }\n",
       "\n",
       "    .dataframe thead th {\n",
       "        text-align: right;\n",
       "    }\n",
       "</style>\n",
       "<table border=\"1\" class=\"dataframe\">\n",
       "  <thead>\n",
       "    <tr style=\"text-align: right;\">\n",
       "      <th>cover</th>\n",
       "      <th>мягкая</th>\n",
       "      <th>твердая</th>\n",
       "    </tr>\n",
       "    <tr>\n",
       "      <th>autor_name</th>\n",
       "      <th></th>\n",
       "      <th></th>\n",
       "    </tr>\n",
       "  </thead>\n",
       "  <tbody>\n",
       "    <tr>\n",
       "      <th>Островский</th>\n",
       "      <td>800</td>\n",
       "      <td>0</td>\n",
       "    </tr>\n",
       "    <tr>\n",
       "      <th>Тургенев</th>\n",
       "      <td>700</td>\n",
       "      <td>500</td>\n",
       "    </tr>\n",
       "    <tr>\n",
       "      <th>Чехов</th>\n",
       "      <td>0</td>\n",
       "      <td>800</td>\n",
       "    </tr>\n",
       "  </tbody>\n",
       "</table>\n",
       "</div>"
      ],
      "text/plain": [
       "cover       мягкая  твердая\n",
       "autor_name                 \n",
       "Островский     800        0\n",
       "Тургенев       700      500\n",
       "Чехов            0      800"
      ]
     },
     "execution_count": 66,
     "metadata": {},
     "output_type": "execute_result"
    }
   ],
   "source": [
    "book_info2"
   ]
  }
 ],
 "metadata": {
  "kernelspec": {
   "display_name": "Python 3",
   "language": "python",
   "name": "python3"
  },
  "language_info": {
   "codemirror_mode": {
    "name": "ipython",
    "version": 3
   },
   "file_extension": ".py",
   "mimetype": "text/x-python",
   "name": "python",
   "nbconvert_exporter": "python",
   "pygments_lexer": "ipython3",
   "version": "3.10.11"
  }
 },
 "nbformat": 4,
 "nbformat_minor": 2
}
